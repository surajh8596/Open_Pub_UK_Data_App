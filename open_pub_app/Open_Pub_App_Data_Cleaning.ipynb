{
 "cells": [
  {
   "cell_type": "code",
   "execution_count": 1,
   "id": "1360967e",
   "metadata": {},
   "outputs": [],
   "source": [
    "import pandas as pd\n",
    "import numpy as np"
   ]
  },
  {
   "cell_type": "code",
   "execution_count": 18,
   "id": "04261e49",
   "metadata": {},
   "outputs": [
    {
     "data": {
      "text/html": [
       "<div>\n",
       "<style scoped>\n",
       "    .dataframe tbody tr th:only-of-type {\n",
       "        vertical-align: middle;\n",
       "    }\n",
       "\n",
       "    .dataframe tbody tr th {\n",
       "        vertical-align: top;\n",
       "    }\n",
       "\n",
       "    .dataframe thead th {\n",
       "        text-align: right;\n",
       "    }\n",
       "</style>\n",
       "<table border=\"1\" class=\"dataframe\">\n",
       "  <thead>\n",
       "    <tr style=\"text-align: right;\">\n",
       "      <th></th>\n",
       "      <th>0</th>\n",
       "      <th>1</th>\n",
       "      <th>2</th>\n",
       "      <th>3</th>\n",
       "      <th>4</th>\n",
       "      <th>5</th>\n",
       "      <th>6</th>\n",
       "      <th>7</th>\n",
       "      <th>8</th>\n",
       "    </tr>\n",
       "  </thead>\n",
       "  <tbody>\n",
       "    <tr>\n",
       "      <th>0</th>\n",
       "      <td>22</td>\n",
       "      <td>Anchor Inn</td>\n",
       "      <td>Upper Street, Stratford St Mary, COLCHESTER</td>\n",
       "      <td>CO7 6LW</td>\n",
       "      <td>604749</td>\n",
       "      <td>234404</td>\n",
       "      <td>51.970379</td>\n",
       "      <td>0.979340</td>\n",
       "      <td>Babergh</td>\n",
       "    </tr>\n",
       "    <tr>\n",
       "      <th>1</th>\n",
       "      <td>36</td>\n",
       "      <td>Ark Bar Restaurant</td>\n",
       "      <td>Ark Bar And Restaurant, Cattawade Street, Bran...</td>\n",
       "      <td>CO11 1RH</td>\n",
       "      <td>610194</td>\n",
       "      <td>233329</td>\n",
       "      <td>51.958698</td>\n",
       "      <td>1.057832</td>\n",
       "      <td>Babergh</td>\n",
       "    </tr>\n",
       "    <tr>\n",
       "      <th>2</th>\n",
       "      <td>74</td>\n",
       "      <td>Black Boy</td>\n",
       "      <td>The Lady Elizabeth, 7 Market Hill, SUDBURY, Su...</td>\n",
       "      <td>CO10 2EA</td>\n",
       "      <td>587334</td>\n",
       "      <td>241316</td>\n",
       "      <td>52.038595</td>\n",
       "      <td>0.729915</td>\n",
       "      <td>Babergh</td>\n",
       "    </tr>\n",
       "    <tr>\n",
       "      <th>3</th>\n",
       "      <td>75</td>\n",
       "      <td>Black Horse</td>\n",
       "      <td>Lower Street, Stratford St Mary, COLCHESTER</td>\n",
       "      <td>CO7 6JS</td>\n",
       "      <td>622675</td>\n",
       "      <td>-5527598</td>\n",
       "      <td>\\N</td>\n",
       "      <td>\\N</td>\n",
       "      <td>Babergh</td>\n",
       "    </tr>\n",
       "    <tr>\n",
       "      <th>4</th>\n",
       "      <td>76</td>\n",
       "      <td>Black Lion</td>\n",
       "      <td>Lion Road, Glemsford, SUDBURY</td>\n",
       "      <td>CO10 7RF</td>\n",
       "      <td>622675</td>\n",
       "      <td>-5527598</td>\n",
       "      <td>\\N</td>\n",
       "      <td>\\N</td>\n",
       "      <td>Babergh</td>\n",
       "    </tr>\n",
       "  </tbody>\n",
       "</table>\n",
       "</div>"
      ],
      "text/plain": [
       "    0                   1                                                  2  \\\n",
       "0  22          Anchor Inn        Upper Street, Stratford St Mary, COLCHESTER   \n",
       "1  36  Ark Bar Restaurant  Ark Bar And Restaurant, Cattawade Street, Bran...   \n",
       "2  74           Black Boy  The Lady Elizabeth, 7 Market Hill, SUDBURY, Su...   \n",
       "3  75         Black Horse        Lower Street, Stratford St Mary, COLCHESTER   \n",
       "4  76          Black Lion                      Lion Road, Glemsford, SUDBURY   \n",
       "\n",
       "          3       4        5          6         7        8  \n",
       "0   CO7 6LW  604749   234404  51.970379  0.979340  Babergh  \n",
       "1  CO11 1RH  610194   233329  51.958698  1.057832  Babergh  \n",
       "2  CO10 2EA  587334   241316  52.038595  0.729915  Babergh  \n",
       "3   CO7 6JS  622675 -5527598         \\N        \\N  Babergh  \n",
       "4  CO10 7RF  622675 -5527598         \\N        \\N  Babergh  "
      ]
     },
     "execution_count": 18,
     "metadata": {},
     "output_type": "execute_result"
    }
   ],
   "source": [
    "df=pd.read_csv('D:\\\\DATA SCIENCE Internship with Innomatics\\\\open_pub_app\\\\resourses\\\\open_pubs.csv',\n",
    "               header=None, keep_default_na=False)\n",
    "df.head()"
   ]
  },
  {
   "cell_type": "markdown",
   "id": "838fb22f",
   "metadata": {},
   "source": [
    "### Add Column Name first"
   ]
  },
  {
   "cell_type": "code",
   "execution_count": 19,
   "id": "854c1308",
   "metadata": {},
   "outputs": [
    {
     "data": {
      "text/html": [
       "<div>\n",
       "<style scoped>\n",
       "    .dataframe tbody tr th:only-of-type {\n",
       "        vertical-align: middle;\n",
       "    }\n",
       "\n",
       "    .dataframe tbody tr th {\n",
       "        vertical-align: top;\n",
       "    }\n",
       "\n",
       "    .dataframe thead th {\n",
       "        text-align: right;\n",
       "    }\n",
       "</style>\n",
       "<table border=\"1\" class=\"dataframe\">\n",
       "  <thead>\n",
       "    <tr style=\"text-align: right;\">\n",
       "      <th></th>\n",
       "      <th>fsa_id</th>\n",
       "      <th>name</th>\n",
       "      <th>address</th>\n",
       "      <th>postcode</th>\n",
       "      <th>easting</th>\n",
       "      <th>northing</th>\n",
       "      <th>latitude</th>\n",
       "      <th>longitude</th>\n",
       "      <th>local_authority</th>\n",
       "    </tr>\n",
       "  </thead>\n",
       "  <tbody>\n",
       "    <tr>\n",
       "      <th>0</th>\n",
       "      <td>22</td>\n",
       "      <td>Anchor Inn</td>\n",
       "      <td>Upper Street, Stratford St Mary, COLCHESTER</td>\n",
       "      <td>CO7 6LW</td>\n",
       "      <td>604749</td>\n",
       "      <td>234404</td>\n",
       "      <td>51.970379</td>\n",
       "      <td>0.979340</td>\n",
       "      <td>Babergh</td>\n",
       "    </tr>\n",
       "    <tr>\n",
       "      <th>1</th>\n",
       "      <td>36</td>\n",
       "      <td>Ark Bar Restaurant</td>\n",
       "      <td>Ark Bar And Restaurant, Cattawade Street, Bran...</td>\n",
       "      <td>CO11 1RH</td>\n",
       "      <td>610194</td>\n",
       "      <td>233329</td>\n",
       "      <td>51.958698</td>\n",
       "      <td>1.057832</td>\n",
       "      <td>Babergh</td>\n",
       "    </tr>\n",
       "    <tr>\n",
       "      <th>2</th>\n",
       "      <td>74</td>\n",
       "      <td>Black Boy</td>\n",
       "      <td>The Lady Elizabeth, 7 Market Hill, SUDBURY, Su...</td>\n",
       "      <td>CO10 2EA</td>\n",
       "      <td>587334</td>\n",
       "      <td>241316</td>\n",
       "      <td>52.038595</td>\n",
       "      <td>0.729915</td>\n",
       "      <td>Babergh</td>\n",
       "    </tr>\n",
       "    <tr>\n",
       "      <th>3</th>\n",
       "      <td>75</td>\n",
       "      <td>Black Horse</td>\n",
       "      <td>Lower Street, Stratford St Mary, COLCHESTER</td>\n",
       "      <td>CO7 6JS</td>\n",
       "      <td>622675</td>\n",
       "      <td>-5527598</td>\n",
       "      <td>\\N</td>\n",
       "      <td>\\N</td>\n",
       "      <td>Babergh</td>\n",
       "    </tr>\n",
       "    <tr>\n",
       "      <th>4</th>\n",
       "      <td>76</td>\n",
       "      <td>Black Lion</td>\n",
       "      <td>Lion Road, Glemsford, SUDBURY</td>\n",
       "      <td>CO10 7RF</td>\n",
       "      <td>622675</td>\n",
       "      <td>-5527598</td>\n",
       "      <td>\\N</td>\n",
       "      <td>\\N</td>\n",
       "      <td>Babergh</td>\n",
       "    </tr>\n",
       "  </tbody>\n",
       "</table>\n",
       "</div>"
      ],
      "text/plain": [
       "   fsa_id                name  \\\n",
       "0      22          Anchor Inn   \n",
       "1      36  Ark Bar Restaurant   \n",
       "2      74           Black Boy   \n",
       "3      75         Black Horse   \n",
       "4      76          Black Lion   \n",
       "\n",
       "                                             address  postcode  easting  \\\n",
       "0        Upper Street, Stratford St Mary, COLCHESTER   CO7 6LW   604749   \n",
       "1  Ark Bar And Restaurant, Cattawade Street, Bran...  CO11 1RH   610194   \n",
       "2  The Lady Elizabeth, 7 Market Hill, SUDBURY, Su...  CO10 2EA   587334   \n",
       "3        Lower Street, Stratford St Mary, COLCHESTER   CO7 6JS   622675   \n",
       "4                      Lion Road, Glemsford, SUDBURY  CO10 7RF   622675   \n",
       "\n",
       "   northing   latitude longitude local_authority  \n",
       "0    234404  51.970379  0.979340         Babergh  \n",
       "1    233329  51.958698  1.057832         Babergh  \n",
       "2    241316  52.038595  0.729915         Babergh  \n",
       "3  -5527598         \\N        \\N         Babergh  \n",
       "4  -5527598         \\N        \\N         Babergh  "
      ]
     },
     "execution_count": 19,
     "metadata": {},
     "output_type": "execute_result"
    }
   ],
   "source": [
    "df.columns=['fsa_id','name','address','postcode','easting','northing','latitude','longitude','local_authority']\n",
    "df.head()"
   ]
  },
  {
   "cell_type": "code",
   "execution_count": 4,
   "id": "c5907d54",
   "metadata": {},
   "outputs": [
    {
     "data": {
      "text/plain": [
       "(51331, 9)"
      ]
     },
     "execution_count": 4,
     "metadata": {},
     "output_type": "execute_result"
    }
   ],
   "source": [
    "df.shape"
   ]
  },
  {
   "cell_type": "code",
   "execution_count": 5,
   "id": "1fc22b9d",
   "metadata": {},
   "outputs": [
    {
     "data": {
      "text/plain": [
       "Index(['fsa_id', 'name', 'address', 'postcode', 'easting', 'northing',\n",
       "       'latitude', 'longitude', 'local_authority'],\n",
       "      dtype='object')"
      ]
     },
     "execution_count": 5,
     "metadata": {},
     "output_type": "execute_result"
    }
   ],
   "source": [
    "df.columns"
   ]
  },
  {
   "cell_type": "code",
   "execution_count": 6,
   "id": "b7f28f7b",
   "metadata": {},
   "outputs": [
    {
     "name": "stdout",
     "output_type": "stream",
     "text": [
      "<class 'pandas.core.frame.DataFrame'>\n",
      "RangeIndex: 51331 entries, 0 to 51330\n",
      "Data columns (total 9 columns):\n",
      " #   Column           Non-Null Count  Dtype \n",
      "---  ------           --------------  ----- \n",
      " 0   fsa_id           51331 non-null  int64 \n",
      " 1   name             51331 non-null  object\n",
      " 2   address          51331 non-null  object\n",
      " 3   postcode         51331 non-null  object\n",
      " 4   easting          51331 non-null  int64 \n",
      " 5   northing         51331 non-null  int64 \n",
      " 6   latitude         51331 non-null  object\n",
      " 7   longitude        51331 non-null  object\n",
      " 8   local_authority  51331 non-null  object\n",
      "dtypes: int64(3), object(6)\n",
      "memory usage: 3.5+ MB\n"
     ]
    }
   ],
   "source": [
    "df.info()"
   ]
  },
  {
   "cell_type": "code",
   "execution_count": 7,
   "id": "70720d6f",
   "metadata": {},
   "outputs": [
    {
     "data": {
      "text/plain": [
       "fsa_id             0\n",
       "name               0\n",
       "address            0\n",
       "postcode           0\n",
       "easting            0\n",
       "northing           0\n",
       "latitude           0\n",
       "longitude          0\n",
       "local_authority    0\n",
       "dtype: int64"
      ]
     },
     "execution_count": 7,
     "metadata": {},
     "output_type": "execute_result"
    }
   ],
   "source": [
    "df.isna().sum()"
   ]
  },
  {
   "cell_type": "markdown",
   "id": "a06e4db1",
   "metadata": {},
   "source": [
    "**There are missing value and are named as `\\N`. lets check how many such rows we have in our dataset and remove those rows.**"
   ]
  },
  {
   "cell_type": "code",
   "execution_count": 20,
   "id": "354c8c18",
   "metadata": {},
   "outputs": [],
   "source": [
    "def change_N_to_nan(col_val):\n",
    "    if col_val==r'\\N':\n",
    "        return np.nan\n",
    "    else:\n",
    "        return col_val\n",
    "\n",
    "df['fsa_id']=df['fsa_id'].apply(change_N_to_nan)\n",
    "df['name']=df['name'].apply(change_N_to_nan)\n",
    "df['address']=df['address'].apply(change_N_to_nan)\n",
    "df['postcode']=df['postcode'].apply(change_N_to_nan)\n",
    "df['easting']=df['easting'].apply(change_N_to_nan)\n",
    "df['northing']=df['northing'].apply(change_N_to_nan)\n",
    "df['latitude']=df['latitude'].apply(change_N_to_nan)\n",
    "df['longitude']=df['longitude'].apply(change_N_to_nan)\n",
    "df['local_authority']=df['local_authority'].apply(change_N_to_nan)"
   ]
  },
  {
   "cell_type": "code",
   "execution_count": 21,
   "id": "ae544556",
   "metadata": {},
   "outputs": [
    {
     "data": {
      "text/plain": [
       "fsa_id               0\n",
       "name                 0\n",
       "address              0\n",
       "postcode             0\n",
       "easting              0\n",
       "northing             0\n",
       "latitude           767\n",
       "longitude          767\n",
       "local_authority      0\n",
       "dtype: int64"
      ]
     },
     "execution_count": 21,
     "metadata": {},
     "output_type": "execute_result"
    }
   ],
   "source": [
    "df.isna().sum()"
   ]
  },
  {
   "cell_type": "code",
   "execution_count": 22,
   "id": "2e09224f",
   "metadata": {},
   "outputs": [
    {
     "data": {
      "text/plain": [
       "fsa_id             0\n",
       "name               0\n",
       "address            0\n",
       "postcode           0\n",
       "easting            0\n",
       "northing           0\n",
       "latitude           0\n",
       "longitude          0\n",
       "local_authority    0\n",
       "dtype: int64"
      ]
     },
     "execution_count": 22,
     "metadata": {},
     "output_type": "execute_result"
    }
   ],
   "source": [
    "df.dropna(axis=0, inplace=True)\n",
    "df.isna().sum()"
   ]
  },
  {
   "cell_type": "markdown",
   "id": "81f53323",
   "metadata": {},
   "source": [
    "#### Longitude and Latitude must be numeric type"
   ]
  },
  {
   "cell_type": "code",
   "execution_count": 23,
   "id": "9e9a107f",
   "metadata": {},
   "outputs": [],
   "source": [
    "df['longitude']=df['longitude'].astype(float)\n",
    "df['latitude']=df['latitude'].astype(float)"
   ]
  },
  {
   "cell_type": "code",
   "execution_count": 24,
   "id": "17485017",
   "metadata": {},
   "outputs": [
    {
     "data": {
      "text/plain": [
       "fsa_id               int64\n",
       "name                object\n",
       "address             object\n",
       "postcode            object\n",
       "easting              int64\n",
       "northing             int64\n",
       "latitude           float64\n",
       "longitude          float64\n",
       "local_authority     object\n",
       "dtype: object"
      ]
     },
     "execution_count": 24,
     "metadata": {},
     "output_type": "execute_result"
    }
   ],
   "source": [
    "df.dtypes"
   ]
  },
  {
   "cell_type": "markdown",
   "id": "1fffb491",
   "metadata": {},
   "source": [
    "### Total Pub"
   ]
  },
  {
   "cell_type": "code",
   "execution_count": 25,
   "id": "69e06497",
   "metadata": {},
   "outputs": [
    {
     "data": {
      "text/plain": [
       "35809"
      ]
     },
     "execution_count": 25,
     "metadata": {},
     "output_type": "execute_result"
    }
   ],
   "source": [
    "df['name'].nunique()"
   ]
  },
  {
   "cell_type": "markdown",
   "id": "79c15424",
   "metadata": {},
   "source": [
    "### Total Local Authorities"
   ]
  },
  {
   "cell_type": "code",
   "execution_count": 26,
   "id": "bf0478fc",
   "metadata": {},
   "outputs": [
    {
     "data": {
      "text/plain": [
       "360"
      ]
     },
     "execution_count": 26,
     "metadata": {},
     "output_type": "execute_result"
    }
   ],
   "source": [
    "df['local_authority'].nunique()"
   ]
  },
  {
   "cell_type": "code",
   "execution_count": 15,
   "id": "aaee1e8e",
   "metadata": {},
   "outputs": [],
   "source": [
    "df.to_csv('D:\\\\DATA SCIENCE Internship with Innomatics\\\\open_pub_app\\\\resourses\\\\open_pubs_clean.csv', index=False)"
   ]
  },
  {
   "cell_type": "code",
   "execution_count": null,
   "id": "91188e66",
   "metadata": {},
   "outputs": [],
   "source": []
  },
  {
   "cell_type": "markdown",
   "id": "2911a4f8",
   "metadata": {},
   "source": [
    "### Nearby Pubs by latitude and longitude"
   ]
  },
  {
   "cell_type": "code",
   "execution_count": 28,
   "id": "e3ebd589",
   "metadata": {},
   "outputs": [
    {
     "name": "stdout",
     "output_type": "stream",
     "text": [
      "51.970388\n",
      "1.057536\n"
     ]
    },
    {
     "data": {
      "text/plain": [
       "array([51.970388,  1.057536])"
      ]
     },
     "execution_count": 28,
     "metadata": {},
     "output_type": "execute_result"
    }
   ],
   "source": [
    "points=np.array((float(input()),float(input())))\n",
    "points"
   ]
  },
  {
   "cell_type": "markdown",
   "id": "299671b7",
   "metadata": {},
   "source": [
    "#### Convert longitude latitude and longitude to array"
   ]
  },
  {
   "cell_type": "code",
   "execution_count": 29,
   "id": "651e6a13",
   "metadata": {},
   "outputs": [
    {
     "data": {
      "text/plain": [
       "array([[51.970379,  0.97934 ],\n",
       "       [51.958698,  1.057832],\n",
       "       [52.038595,  0.729915],\n",
       "       ...,\n",
       "       [53.044998, -2.996966],\n",
       "       [53.053094, -2.959124],\n",
       "       [53.076638, -3.050512]])"
      ]
     },
     "execution_count": 29,
     "metadata": {},
     "output_type": "execute_result"
    }
   ],
   "source": [
    "arr=np.array([df['latitude'],df['longitude']]).T\n",
    "arr"
   ]
  },
  {
   "cell_type": "code",
   "execution_count": 33,
   "id": "76cddf94",
   "metadata": {},
   "outputs": [
    {
     "data": {
      "text/plain": [
       "array([6.11461450e-03, 1.36743716e-04, 1.11987714e-01, ...,\n",
       "       1.75937731e+01, 1.73058098e+01, 1.80998474e+01])"
      ]
     },
     "execution_count": 33,
     "metadata": {},
     "output_type": "execute_result"
    }
   ],
   "source": [
    "dis=np.sum((arr-points)**2, axis=1)\n",
    "dis"
   ]
  },
  {
   "cell_type": "code",
   "execution_count": 34,
   "id": "715baaf9",
   "metadata": {},
   "outputs": [],
   "source": [
    "df['Distance']=dis"
   ]
  },
  {
   "cell_type": "code",
   "execution_count": 35,
   "id": "76bcee38",
   "metadata": {},
   "outputs": [
    {
     "data": {
      "text/html": [
       "<div>\n",
       "<style scoped>\n",
       "    .dataframe tbody tr th:only-of-type {\n",
       "        vertical-align: middle;\n",
       "    }\n",
       "\n",
       "    .dataframe tbody tr th {\n",
       "        vertical-align: top;\n",
       "    }\n",
       "\n",
       "    .dataframe thead th {\n",
       "        text-align: right;\n",
       "    }\n",
       "</style>\n",
       "<table border=\"1\" class=\"dataframe\">\n",
       "  <thead>\n",
       "    <tr style=\"text-align: right;\">\n",
       "      <th></th>\n",
       "      <th>fsa_id</th>\n",
       "      <th>name</th>\n",
       "      <th>address</th>\n",
       "      <th>postcode</th>\n",
       "      <th>easting</th>\n",
       "      <th>northing</th>\n",
       "      <th>latitude</th>\n",
       "      <th>longitude</th>\n",
       "      <th>local_authority</th>\n",
       "      <th>Distance</th>\n",
       "    </tr>\n",
       "  </thead>\n",
       "  <tbody>\n",
       "    <tr>\n",
       "      <th>0</th>\n",
       "      <td>22</td>\n",
       "      <td>Anchor Inn</td>\n",
       "      <td>Upper Street, Stratford St Mary, COLCHESTER</td>\n",
       "      <td>CO7 6LW</td>\n",
       "      <td>604749</td>\n",
       "      <td>234404</td>\n",
       "      <td>51.970379</td>\n",
       "      <td>0.979340</td>\n",
       "      <td>Babergh</td>\n",
       "      <td>0.006115</td>\n",
       "    </tr>\n",
       "    <tr>\n",
       "      <th>1</th>\n",
       "      <td>36</td>\n",
       "      <td>Ark Bar Restaurant</td>\n",
       "      <td>Ark Bar And Restaurant, Cattawade Street, Bran...</td>\n",
       "      <td>CO11 1RH</td>\n",
       "      <td>610194</td>\n",
       "      <td>233329</td>\n",
       "      <td>51.958698</td>\n",
       "      <td>1.057832</td>\n",
       "      <td>Babergh</td>\n",
       "      <td>0.000137</td>\n",
       "    </tr>\n",
       "    <tr>\n",
       "      <th>2</th>\n",
       "      <td>74</td>\n",
       "      <td>Black Boy</td>\n",
       "      <td>The Lady Elizabeth, 7 Market Hill, SUDBURY, Su...</td>\n",
       "      <td>CO10 2EA</td>\n",
       "      <td>587334</td>\n",
       "      <td>241316</td>\n",
       "      <td>52.038595</td>\n",
       "      <td>0.729915</td>\n",
       "      <td>Babergh</td>\n",
       "      <td>0.111988</td>\n",
       "    </tr>\n",
       "    <tr>\n",
       "      <th>5</th>\n",
       "      <td>97</td>\n",
       "      <td>Brewers Arms</td>\n",
       "      <td>The Brewers Arms, Bower House Tye, Polstead, C...</td>\n",
       "      <td>CO6 5BZ</td>\n",
       "      <td>598743</td>\n",
       "      <td>240655</td>\n",
       "      <td>52.028694</td>\n",
       "      <td>0.895650</td>\n",
       "      <td>Babergh</td>\n",
       "      <td>0.029607</td>\n",
       "    </tr>\n",
       "    <tr>\n",
       "      <th>6</th>\n",
       "      <td>102</td>\n",
       "      <td>Bristol Arms</td>\n",
       "      <td>Bristol Hill, Shotley, IPSWICH</td>\n",
       "      <td>IP9 1PU</td>\n",
       "      <td>624624</td>\n",
       "      <td>233550</td>\n",
       "      <td>51.955042</td>\n",
       "      <td>1.267642</td>\n",
       "      <td>Babergh</td>\n",
       "      <td>0.044380</td>\n",
       "    </tr>\n",
       "    <tr>\n",
       "      <th>...</th>\n",
       "      <td>...</td>\n",
       "      <td>...</td>\n",
       "      <td>...</td>\n",
       "      <td>...</td>\n",
       "      <td>...</td>\n",
       "      <td>...</td>\n",
       "      <td>...</td>\n",
       "      <td>...</td>\n",
       "      <td>...</td>\n",
       "      <td>...</td>\n",
       "    </tr>\n",
       "    <tr>\n",
       "      <th>51326</th>\n",
       "      <td>597119</td>\n",
       "      <td>Wrexham &amp; District War Memorial Club Ltd</td>\n",
       "      <td>Wrexham War Memorial Club Farndon Street, Wrex...</td>\n",
       "      <td>LL13 8DE</td>\n",
       "      <td>333909</td>\n",
       "      <td>350438</td>\n",
       "      <td>53.047100</td>\n",
       "      <td>-2.987319</td>\n",
       "      <td>Wrexham</td>\n",
       "      <td>17.520161</td>\n",
       "    </tr>\n",
       "    <tr>\n",
       "      <th>51327</th>\n",
       "      <td>597127</td>\n",
       "      <td>Wrexham Lager Social Club</td>\n",
       "      <td>1 - 3 Union Road, Wrexham, Wrexham</td>\n",
       "      <td>LL13 7SR</td>\n",
       "      <td>333028</td>\n",
       "      <td>350563</td>\n",
       "      <td>53.048123</td>\n",
       "      <td>-3.000485</td>\n",
       "      <td>Wrexham</td>\n",
       "      <td>17.629047</td>\n",
       "    </tr>\n",
       "    <tr>\n",
       "      <th>51328</th>\n",
       "      <td>597130</td>\n",
       "      <td>Wrexham Rail Sports &amp; Social Club</td>\n",
       "      <td>Sports And Social Club, 44 Brook Street, Wrexh...</td>\n",
       "      <td>LL13 7LU</td>\n",
       "      <td>333259</td>\n",
       "      <td>350213</td>\n",
       "      <td>53.044998</td>\n",
       "      <td>-2.996966</td>\n",
       "      <td>Wrexham</td>\n",
       "      <td>17.593773</td>\n",
       "    </tr>\n",
       "    <tr>\n",
       "      <th>51329</th>\n",
       "      <td>597131</td>\n",
       "      <td>Wrexham Rugby Club</td>\n",
       "      <td>Wrexham Rugby Club Bryn Estyn Road, Wrexham, W...</td>\n",
       "      <td>LL13 9TY</td>\n",
       "      <td>335808</td>\n",
       "      <td>351078</td>\n",
       "      <td>53.053094</td>\n",
       "      <td>-2.959124</td>\n",
       "      <td>Wrexham</td>\n",
       "      <td>17.305810</td>\n",
       "    </tr>\n",
       "    <tr>\n",
       "      <th>51330</th>\n",
       "      <td>597137</td>\n",
       "      <td>Y Tai</td>\n",
       "      <td>Y Tai Railway Road, Brymbo, Wrexham, Wrexham</td>\n",
       "      <td>LL11 5EA</td>\n",
       "      <td>329721</td>\n",
       "      <td>353785</td>\n",
       "      <td>53.076638</td>\n",
       "      <td>-3.050512</td>\n",
       "      <td>Wrexham</td>\n",
       "      <td>18.099847</td>\n",
       "    </tr>\n",
       "  </tbody>\n",
       "</table>\n",
       "<p>50564 rows × 10 columns</p>\n",
       "</div>"
      ],
      "text/plain": [
       "       fsa_id                                      name  \\\n",
       "0          22                                Anchor Inn   \n",
       "1          36                        Ark Bar Restaurant   \n",
       "2          74                                 Black Boy   \n",
       "5          97                              Brewers Arms   \n",
       "6         102                              Bristol Arms   \n",
       "...       ...                                       ...   \n",
       "51326  597119  Wrexham & District War Memorial Club Ltd   \n",
       "51327  597127                 Wrexham Lager Social Club   \n",
       "51328  597130         Wrexham Rail Sports & Social Club   \n",
       "51329  597131                        Wrexham Rugby Club   \n",
       "51330  597137                                     Y Tai   \n",
       "\n",
       "                                                 address  postcode  easting  \\\n",
       "0            Upper Street, Stratford St Mary, COLCHESTER   CO7 6LW   604749   \n",
       "1      Ark Bar And Restaurant, Cattawade Street, Bran...  CO11 1RH   610194   \n",
       "2      The Lady Elizabeth, 7 Market Hill, SUDBURY, Su...  CO10 2EA   587334   \n",
       "5      The Brewers Arms, Bower House Tye, Polstead, C...   CO6 5BZ   598743   \n",
       "6                         Bristol Hill, Shotley, IPSWICH   IP9 1PU   624624   \n",
       "...                                                  ...       ...      ...   \n",
       "51326  Wrexham War Memorial Club Farndon Street, Wrex...  LL13 8DE   333909   \n",
       "51327                 1 - 3 Union Road, Wrexham, Wrexham  LL13 7SR   333028   \n",
       "51328  Sports And Social Club, 44 Brook Street, Wrexh...  LL13 7LU   333259   \n",
       "51329  Wrexham Rugby Club Bryn Estyn Road, Wrexham, W...  LL13 9TY   335808   \n",
       "51330       Y Tai Railway Road, Brymbo, Wrexham, Wrexham  LL11 5EA   329721   \n",
       "\n",
       "       northing   latitude  longitude local_authority   Distance  \n",
       "0        234404  51.970379   0.979340         Babergh   0.006115  \n",
       "1        233329  51.958698   1.057832         Babergh   0.000137  \n",
       "2        241316  52.038595   0.729915         Babergh   0.111988  \n",
       "5        240655  52.028694   0.895650         Babergh   0.029607  \n",
       "6        233550  51.955042   1.267642         Babergh   0.044380  \n",
       "...         ...        ...        ...             ...        ...  \n",
       "51326    350438  53.047100  -2.987319         Wrexham  17.520161  \n",
       "51327    350563  53.048123  -3.000485         Wrexham  17.629047  \n",
       "51328    350213  53.044998  -2.996966         Wrexham  17.593773  \n",
       "51329    351078  53.053094  -2.959124         Wrexham  17.305810  \n",
       "51330    353785  53.076638  -3.050512         Wrexham  18.099847  \n",
       "\n",
       "[50564 rows x 10 columns]"
      ]
     },
     "execution_count": 35,
     "metadata": {},
     "output_type": "execute_result"
    }
   ],
   "source": [
    "df"
   ]
  },
  {
   "cell_type": "code",
   "execution_count": 36,
   "id": "51bd8c80",
   "metadata": {},
   "outputs": [
    {
     "data": {
      "text/html": [
       "<div>\n",
       "<style scoped>\n",
       "    .dataframe tbody tr th:only-of-type {\n",
       "        vertical-align: middle;\n",
       "    }\n",
       "\n",
       "    .dataframe tbody tr th {\n",
       "        vertical-align: top;\n",
       "    }\n",
       "\n",
       "    .dataframe thead th {\n",
       "        text-align: right;\n",
       "    }\n",
       "</style>\n",
       "<table border=\"1\" class=\"dataframe\">\n",
       "  <thead>\n",
       "    <tr style=\"text-align: right;\">\n",
       "      <th></th>\n",
       "      <th>fsa_id</th>\n",
       "      <th>name</th>\n",
       "      <th>address</th>\n",
       "      <th>postcode</th>\n",
       "      <th>easting</th>\n",
       "      <th>northing</th>\n",
       "      <th>latitude</th>\n",
       "      <th>longitude</th>\n",
       "      <th>local_authority</th>\n",
       "      <th>Distance</th>\n",
       "    </tr>\n",
       "  </thead>\n",
       "  <tbody>\n",
       "    <tr>\n",
       "      <th>29</th>\n",
       "      <td>591</td>\n",
       "      <td>Royal Oak</td>\n",
       "      <td>Royal Oak, East End Lane, East Bergholt, COLCH...</td>\n",
       "      <td>CO7 6XA</td>\n",
       "      <td>609998</td>\n",
       "      <td>235171</td>\n",
       "      <td>51.975311</td>\n",
       "      <td>1.056110</td>\n",
       "      <td>Babergh</td>\n",
       "      <td>0.000026</td>\n",
       "    </tr>\n",
       "    <tr>\n",
       "      <th>60</th>\n",
       "      <td>797</td>\n",
       "      <td>The Grange</td>\n",
       "      <td>The Grange Country Park, Straight Road, East B...</td>\n",
       "      <td>CO7 6UX</td>\n",
       "      <td>609841</td>\n",
       "      <td>235186</td>\n",
       "      <td>51.975506</td>\n",
       "      <td>1.053837</td>\n",
       "      <td>Babergh</td>\n",
       "      <td>0.000040</td>\n",
       "    </tr>\n",
       "    <tr>\n",
       "      <th>1</th>\n",
       "      <td>36</td>\n",
       "      <td>Ark Bar Restaurant</td>\n",
       "      <td>Ark Bar And Restaurant, Cattawade Street, Bran...</td>\n",
       "      <td>CO11 1RH</td>\n",
       "      <td>610194</td>\n",
       "      <td>233329</td>\n",
       "      <td>51.958698</td>\n",
       "      <td>1.057832</td>\n",
       "      <td>Babergh</td>\n",
       "      <td>0.000137</td>\n",
       "    </tr>\n",
       "    <tr>\n",
       "      <th>52</th>\n",
       "      <td>775</td>\n",
       "      <td>The Crown Inn</td>\n",
       "      <td>Crown Inn, Cattawade Street, Brantham, MANNING...</td>\n",
       "      <td>CO11 1RE</td>\n",
       "      <td>610209</td>\n",
       "      <td>233104</td>\n",
       "      <td>51.956673</td>\n",
       "      <td>1.057912</td>\n",
       "      <td>Babergh</td>\n",
       "      <td>0.000188</td>\n",
       "    </tr>\n",
       "    <tr>\n",
       "      <th>3987</th>\n",
       "      <td>47315</td>\n",
       "      <td>Skinners Arms</td>\n",
       "      <td>Station Road, Lawford, Essex</td>\n",
       "      <td>CO11 1DX</td>\n",
       "      <td>610493</td>\n",
       "      <td>231873</td>\n",
       "      <td>51.945514</td>\n",
       "      <td>1.061287</td>\n",
       "      <td>Tendring</td>\n",
       "      <td>0.000633</td>\n",
       "    </tr>\n",
       "  </tbody>\n",
       "</table>\n",
       "</div>"
      ],
      "text/plain": [
       "      fsa_id                name  \\\n",
       "29       591           Royal Oak   \n",
       "60       797          The Grange   \n",
       "1         36  Ark Bar Restaurant   \n",
       "52       775       The Crown Inn   \n",
       "3987   47315       Skinners Arms   \n",
       "\n",
       "                                                address  postcode  easting  \\\n",
       "29    Royal Oak, East End Lane, East Bergholt, COLCH...   CO7 6XA   609998   \n",
       "60    The Grange Country Park, Straight Road, East B...   CO7 6UX   609841   \n",
       "1     Ark Bar And Restaurant, Cattawade Street, Bran...  CO11 1RH   610194   \n",
       "52    Crown Inn, Cattawade Street, Brantham, MANNING...  CO11 1RE   610209   \n",
       "3987                       Station Road, Lawford, Essex  CO11 1DX   610493   \n",
       "\n",
       "      northing   latitude  longitude local_authority  Distance  \n",
       "29      235171  51.975311   1.056110         Babergh  0.000026  \n",
       "60      235186  51.975506   1.053837         Babergh  0.000040  \n",
       "1       233329  51.958698   1.057832         Babergh  0.000137  \n",
       "52      233104  51.956673   1.057912         Babergh  0.000188  \n",
       "3987    231873  51.945514   1.061287        Tendring  0.000633  "
      ]
     },
     "execution_count": 36,
     "metadata": {},
     "output_type": "execute_result"
    }
   ],
   "source": [
    "df.sort_values(by='Distance', ascending=True)[:5]"
   ]
  },
  {
   "cell_type": "code",
   "execution_count": null,
   "id": "c84fc169",
   "metadata": {},
   "outputs": [],
   "source": []
  },
  {
   "cell_type": "markdown",
   "id": "a63dedf2",
   "metadata": {},
   "source": [
    "#### These are the 5 Nearest Pub Locations"
   ]
  },
  {
   "cell_type": "code",
   "execution_count": null,
   "id": "71553ee1",
   "metadata": {},
   "outputs": [],
   "source": []
  },
  {
   "cell_type": "code",
   "execution_count": 37,
   "id": "4da35111",
   "metadata": {},
   "outputs": [
    {
     "data": {
      "text/plain": [
       "60.764969"
      ]
     },
     "execution_count": 37,
     "metadata": {},
     "output_type": "execute_result"
    }
   ],
   "source": [
    "df['latitude'].max()"
   ]
  },
  {
   "cell_type": "code",
   "execution_count": 38,
   "id": "340b2827",
   "metadata": {},
   "outputs": [
    {
     "data": {
      "text/plain": [
       "-7.384525"
      ]
     },
     "execution_count": 38,
     "metadata": {},
     "output_type": "execute_result"
    }
   ],
   "source": [
    "df['longitude'].min()"
   ]
  },
  {
   "cell_type": "code",
   "execution_count": null,
   "id": "9f1dc82a",
   "metadata": {},
   "outputs": [],
   "source": []
  }
 ],
 "metadata": {
  "kernelspec": {
   "display_name": "python3.11",
   "language": "python",
   "name": "python3.11"
  },
  "language_info": {
   "codemirror_mode": {
    "name": "ipython",
    "version": 3
   },
   "file_extension": ".py",
   "mimetype": "text/x-python",
   "name": "python",
   "nbconvert_exporter": "python",
   "pygments_lexer": "ipython3",
   "version": "3.9.7"
  }
 },
 "nbformat": 4,
 "nbformat_minor": 5
}
